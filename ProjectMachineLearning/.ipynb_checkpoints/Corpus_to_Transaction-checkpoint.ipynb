{
 "cells": [
  {
   "cell_type": "code",
   "execution_count": 2,
   "id": "721720e0",
   "metadata": {},
   "outputs": [],
   "source": [
    "import os\n",
    "import nltk\n",
    "import csv\n"
   ]
  },
  {
   "cell_type": "code",
   "execution_count": null,
   "id": "39d430bf",
   "metadata": {},
   "outputs": [],
   "source": [
    "# Step 1: Read in the corpus of files\n",
    "corpus_dir = \"E:\\Professional Masters in Data Science\\SEM 2\\Machine Learning\\Project\\Poets\\EmilyDickinson\"\n",
    "files = os.listdir(corpus_dir)"
   ]
  }
 ],
 "metadata": {
  "kernelspec": {
   "display_name": "Python 3 (ipykernel)",
   "language": "python",
   "name": "python3"
  },
  "language_info": {
   "codemirror_mode": {
    "name": "ipython",
    "version": 3
   },
   "file_extension": ".py",
   "mimetype": "text/x-python",
   "name": "python",
   "nbconvert_exporter": "python",
   "pygments_lexer": "ipython3",
   "version": "3.9.12"
  }
 },
 "nbformat": 4,
 "nbformat_minor": 5
}
